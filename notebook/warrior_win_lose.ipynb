{
 "cells": [
  {
   "cell_type": "markdown",
   "id": "1d191c80",
   "metadata": {},
   "source": [
    "# NBA Win-Loss Modeling Data Prep"
   ]
  },
  {
   "cell_type": "markdown",
   "id": "d30d66a7",
   "metadata": {},
   "source": [
    "An Analysis on the Warrior Win-Loss Binary Classification Model in 2024-25 season. "
   ]
  },
  {
   "cell_type": "code",
   "execution_count": 1,
   "id": "12abcaac",
   "metadata": {},
   "outputs": [
    {
     "name": "stdout",
     "output_type": "stream",
     "text": [
      "2024-25\n"
     ]
    }
   ],
   "source": [
    "from nba_api.stats.static import teams, players\n",
    "from nba_api.stats.endpoints import cumestatsteamgames, cumestatsteam, gamerotation\n",
    "import pandas as pd\n",
    "import numpy as np\n",
    "import json\n",
    "import difflib\n",
    "import time\n",
    "import requests"
   ]
  },
  {
   "cell_type": "markdown",
   "id": "fe0c8626",
   "metadata": {},
   "source": [
    "implement a retry wrapper using a python decorator function. This will prevent the HTTP Timeouts from stopping the script's run during API calls. "
   ]
  },
  {
   "cell_type": "code",
   "execution_count": 2,
   "id": "6bb0a53f",
   "metadata": {},
   "outputs": [],
   "source": [
    "# Retry Wrapper \n",
    "def retry(func, retries=3):\n",
    "    def retry_wrapper(*args, **kwargs):\n",
    "        attempts = 0\n",
    "        while attempts < retries:\n",
    "            try:\n",
    "                return func(*args, **kwargs)\n",
    "            except requests.exceptions.RequestException as e:\n",
    "                print(e)\n",
    "                time.sleep(30)\n",
    "                attempts += 1\n",
    "\n",
    "    return retry_wrapper"
   ]
  },
  {
   "cell_type": "code",
   "execution_count": 9,
   "id": "705db35d",
   "metadata": {},
   "outputs": [],
   "source": [
    "# Get Season Schedule Function \n",
    "\n",
    "def getSeasonScheduleFrame(seasons,seasonType): \n",
    "\n",
    "    # Get date from string\n",
    "    def getGameDate(matchup):\n",
    "        return matchup.partition(' at')[0][:10]\n",
    "\n",
    "    # Get Home team from string\n",
    "    def getHomeTeam(matchup):\n",
    "        return matchup.partition(' at')[2]\n",
    "\n",
    "    # Get Away team from string\n",
    "    def getAwayTeam(matchup):\n",
    "        return matchup.partition(' at')[0][10:]\n",
    "\n",
    "    # Match nickname from schedule to team table to find ID\n",
    "    def getTeamIDFromNickname(nickname):\n",
    "        return teamLookup.loc[teamLookup['nickname'] == difflib.get_close_matches(nickname,teamLookup['nickname'],1)[0]].values[0][0] \n",
    "    \n",
    "    @retry\n",
    "    def getRegularSeasonSchedule(season,teamID,seasonType):\n",
    "        season = str(season) + \"-\" + str(season+1)[-2:] # Convert year to season format ie. 2020 -> 2020-21\n",
    "        teamGames = cumestatsteamgames.CumeStatsTeamGames(league_id = '00',season = season ,\n",
    "                                                                      season_type_all_star=seasonType,\n",
    "                                                                      team_id = teamID).get_normalized_json()\n",
    "\n",
    "        teamGames = pd.DataFrame(json.loads(teamGames)['CumeStatsTeamGames'])\n",
    "        teamGames['SEASON'] = season\n",
    "        return teamGames    \n",
    "    \n",
    "    # Get team lookup table\n",
    "    teamLookup = pd.DataFrame(teams.get_teams())\n",
    "    \n",
    "    # Get teams schedule for each team for each season\n",
    "    scheduleFrame = pd.DataFrame()\n",
    "\n",
    "    for season in seasons:\n",
    "        for id in teamLookup['id']:\n",
    "            time.sleep(1)\n",
    "            scheduleFrame = scheduleFrame.append(getRegularSeasonSchedule(season,id,seasonType))\n",
    "            \n",
    "    # scheduleFrame['GAME_DATE'] = pd.to_datetime(scheduleFrame['MATCHUP'].map(getGameDate))\n",
    "    # scheduleFrame['HOME_TEAM_NICKNAME'] = scheduleFrame['MATCHUP'].map(getHomeTeam)\n",
    "    # scheduleFrame['HOME_TEAM_ID'] = scheduleFrame['HOME_TEAM_NICKNAME'].map(getTeamIDFromNickname)\n",
    "    # scheduleFrame['AWAY_TEAM_NICKNAME'] = scheduleFrame['MATCHUP'].map(getAwayTeam)\n",
    "    # scheduleFrame['AWAY_TEAM_ID'] = scheduleFrame['AWAY_TEAM_NICKNAME'].map(getTeamIDFromNickname)\n",
    "    # scheduleFrame = scheduleFrame.drop_duplicates() # There's a row for both teams, only need 1\n",
    "    # scheduleFrame = scheduleFrame.reset_index(drop=True)\n",
    "            \n",
    "    return scheduleFrame\n",
    "\n",
    "\n",
    "\n"
   ]
  },
  {
   "cell_type": "code",
   "execution_count": 10,
   "id": "2d5f4fbd",
   "metadata": {},
   "outputs": [
    {
     "ename": "AttributeError",
     "evalue": "'DataFrame' object has no attribute 'append'",
     "output_type": "error",
     "traceback": [
      "\u001b[31m---------------------------------------------------------------------------\u001b[39m",
      "\u001b[31mAttributeError\u001b[39m                            Traceback (most recent call last)",
      "\u001b[32m~\\AppData\\Local\\Temp\\ipykernel_7116\\1880971891.py\u001b[39m in \u001b[36m?\u001b[39m\u001b[34m()\u001b[39m\n\u001b[32m----> \u001b[39m\u001b[32m1\u001b[39m j = getSeasonScheduleFrame([\u001b[32m2023\u001b[39m,\u001b[32m2024\u001b[39m],\u001b[33m'Regular Season'\u001b[39m)\n",
      "\u001b[32m~\\AppData\\Local\\Temp\\ipykernel_7116\\639859603.py\u001b[39m in \u001b[36m?\u001b[39m\u001b[34m(seasons, seasonType)\u001b[39m\n\u001b[32m     37\u001b[39m \n\u001b[32m     38\u001b[39m     \u001b[38;5;28;01mfor\u001b[39;00m season \u001b[38;5;28;01min\u001b[39;00m seasons:\n\u001b[32m     39\u001b[39m         \u001b[38;5;28;01mfor\u001b[39;00m id \u001b[38;5;28;01min\u001b[39;00m teamLookup[\u001b[33m'id'\u001b[39m]:\n\u001b[32m     40\u001b[39m             time.sleep(\u001b[32m1\u001b[39m)\n\u001b[32m---> \u001b[39m\u001b[32m41\u001b[39m             scheduleFrame = scheduleFrame.append(getRegularSeasonSchedule(season,id,seasonType))\n\u001b[32m     42\u001b[39m \n\u001b[32m     43\u001b[39m     \u001b[38;5;66;03m# scheduleFrame['GAME_DATE'] = pd.to_datetime(scheduleFrame['MATCHUP'].map(getGameDate))\u001b[39;00m\n\u001b[32m     44\u001b[39m     \u001b[38;5;66;03m# scheduleFrame['HOME_TEAM_NICKNAME'] = scheduleFrame['MATCHUP'].map(getHomeTeam)\u001b[39;00m\n",
      "\u001b[32mc:\\Users\\www16\\someProject\\ball\\.venv\\Lib\\site-packages\\pandas\\core\\generic.py\u001b[39m in \u001b[36m?\u001b[39m\u001b[34m(self, name)\u001b[39m\n\u001b[32m   6295\u001b[39m             \u001b[38;5;28;01mand\u001b[39;00m name \u001b[38;5;28;01mnot\u001b[39;00m \u001b[38;5;28;01min\u001b[39;00m self._accessors\n\u001b[32m   6296\u001b[39m             \u001b[38;5;28;01mand\u001b[39;00m self._info_axis._can_hold_identifiers_and_holds_name(name)\n\u001b[32m   6297\u001b[39m         ):\n\u001b[32m   6298\u001b[39m             \u001b[38;5;28;01mreturn\u001b[39;00m self[name]\n\u001b[32m-> \u001b[39m\u001b[32m6299\u001b[39m         \u001b[38;5;28;01mreturn\u001b[39;00m object.__getattribute__(self, name)\n",
      "\u001b[31mAttributeError\u001b[39m: 'DataFrame' object has no attribute 'append'"
     ]
    }
   ],
   "source": [
    "j = getSeasonScheduleFrame([2023,2024],'Regular Season')"
   ]
  }
 ],
 "metadata": {
  "kernelspec": {
   "display_name": ".venv",
   "language": "python",
   "name": "python3"
  },
  "language_info": {
   "codemirror_mode": {
    "name": "ipython",
    "version": 3
   },
   "file_extension": ".py",
   "mimetype": "text/x-python",
   "name": "python",
   "nbconvert_exporter": "python",
   "pygments_lexer": "ipython3",
   "version": "3.13.2"
  }
 },
 "nbformat": 4,
 "nbformat_minor": 5
}
