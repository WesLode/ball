{
 "cells": [
  {
   "cell_type": "code",
   "execution_count": null,
   "id": "5186a260",
   "metadata": {},
   "outputs": [],
   "source": [
    "# from nba_api.stats.static import teams, players\n",
    "# from nba_api.stats.endpoints import cumestatsteamgames, cumestatsteam, gamerotation\n",
    "import pandas as pd\n",
    "import numpy as np\n",
    "import json\n",
    "import difflib\n",
    "import time\n",
    "import requests"
   ]
  },
  {
   "cell_type": "code",
   "execution_count": 6,
   "id": "7958737d",
   "metadata": {},
   "outputs": [],
   "source": [
    "# Retry Wrapper \n",
    "def retry(func, retries=3):\n",
    "    def retry_wrapper(*args, **kwargs):\n",
    "        attempts = 0\n",
    "        while attempts < retries:\n",
    "            try:\n",
    "                return func(*args, **kwargs)\n",
    "            except requests.exceptions.RequestException as e:\n",
    "                print(e)\n",
    "                time.sleep(30)\n",
    "                attempts += 1\n",
    "\n",
    "    return retry_wrapper"
   ]
  },
  {
   "cell_type": "code",
   "execution_count": 13,
   "id": "589b0a79",
   "metadata": {},
   "outputs": [
    {
     "data": {
      "text/plain": [
       "{'id': 1610612744,\n",
       " 'full_name': 'Golden State Warriors',\n",
       " 'abbreviation': 'GSW',\n",
       " 'nickname': 'Warriors',\n",
       " 'city': 'Golden State',\n",
       " 'state': 'California',\n",
       " 'year_founded': 1946}"
      ]
     },
     "execution_count": 13,
     "metadata": {},
     "output_type": "execute_result"
    }
   ],
   "source": [
    "# Get All Nba Team\n",
    "from nba_api.stats.static import teams\n",
    "nba_teams = teams.get_teams()\n",
    "for i in nba_teams:\n",
    "    if i['abbreviation'] == 'GSW':\n",
    "        team_example = i\n",
    "        break\n",
    "team_example\n"
   ]
  },
  {
   "cell_type": "code",
   "execution_count": null,
   "id": "218a57ad",
   "metadata": {},
   "outputs": [],
   "source": [
    "from nba_api.stats.endpoints import leaguegamefinder\n",
    "\n",
    "gamefinder = leaguegamefinder.LeagueGameFinder(\n",
    "    team_id_nullable=team_example['id'],\n",
    "    # season_nullable = \"2016-17\"\n",
    "    )\n",
    "\n",
    "gamefinder\n",
    "games = gamefinder.get_data_frames()[0]\n",
    "# count Season\n",
    "games.groupby(\n",
    "    games.SEASON_ID.str[-4:]\n",
    "    )[['GAME_ID']].count().loc['2024':]\n",
    "\n",
    "# games.head()\n",
    "# games['SEASON_ID'].unique() # ['42016', '22016', '12016']"
   ]
  },
  {
   "cell_type": "code",
   "execution_count": 65,
   "id": "6764a768",
   "metadata": {},
   "outputs": [
    {
     "data": {
      "text/plain": [
       "SEASON_ID                            22024\n",
       "TEAM_ID                         1610612744\n",
       "TEAM_ABBREVIATION                      GSW\n",
       "TEAM_NAME            Golden State Warriors\n",
       "GAME_ID                         0022401163\n",
       "GAME_DATE                       2025-04-09\n",
       "MATCHUP                        GSW vs. SAS\n",
       "WL                                       L\n",
       "MIN                                    239\n",
       "PTS                                    111\n",
       "FGM                                     36\n",
       "FGA                                     86\n",
       "FG_PCT                               0.419\n",
       "FG3M                                    16\n",
       "FG3A                                  48.0\n",
       "FG3_PCT                              0.333\n",
       "FTM                                     23\n",
       "FTA                                     28\n",
       "FT_PCT                               0.821\n",
       "OREB                                  16.0\n",
       "DREB                                  29.0\n",
       "REB                                   45.0\n",
       "AST                                     29\n",
       "STL                                      8\n",
       "BLK                                      2\n",
       "TOV                                     10\n",
       "PF                                      19\n",
       "PLUS_MINUS                            -3.0\n",
       "Name: 0, dtype: object"
      ]
     },
     "execution_count": 65,
     "metadata": {},
     "output_type": "execute_result"
    }
   ],
   "source": [
    "# Query Example\n",
    "# By Year\n",
    "games.groupby(games.SEASON_ID.str[-4:])[['GAME_ID']].count().loc['2015':]\n",
    "games_2024 = games[games.SEASON_ID.str[-4:] == '2024']\n",
    "\n",
    "# By Team matchup\n",
    "war_games_2024 = games_2024[games_2024.MATCHUP.str.contains('HOU')]\n",
    "\n",
    "# Find the lastest game\n",
    "# last_game = games_2024.sort_values('GAME_DATE').iloc[-4::]\n",
    "last_game = games_2024.sort_values('GAME_DATE').iloc[-1]\n",
    "last_game"
   ]
  },
  {
   "cell_type": "code",
   "execution_count": 78,
   "id": "214c959c",
   "metadata": {},
   "outputs": [],
   "source": [
    "from nba_api.stats.endpoints import playbyplayv2\n",
    "\n",
    "pbp = playbyplayv2.PlayByPlayV2(last_game['GAME_ID'])\n",
    "test = pbp.get_data_frames()[0]\n",
    "with open('testoutput.txt','w') as f1:\n",
    "    f1.write(test.iloc[-3::].to_markdown(\n",
    "        index=False, \n",
    "        tablefmt=\"grid\",\n",
    "        stralign=\"center\"\n",
    "    ))\n"
   ]
  }
 ],
 "metadata": {
  "kernelspec": {
   "display_name": ".venv",
   "language": "python",
   "name": "python3"
  },
  "language_info": {
   "codemirror_mode": {
    "name": "ipython",
    "version": 3
   },
   "file_extension": ".py",
   "mimetype": "text/x-python",
   "name": "python",
   "nbconvert_exporter": "python",
   "pygments_lexer": "ipython3",
   "version": "3.13.2"
  }
 },
 "nbformat": 4,
 "nbformat_minor": 5
}
