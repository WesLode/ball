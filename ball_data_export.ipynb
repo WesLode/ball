{
 "cells": [
  {
   "cell_type": "code",
   "execution_count": 36,
   "id": "98ab5d07-5142-4eed-afe1-e186c2e0545b",
   "metadata": {},
   "outputs": [],
   "source": [
    "from nba_api.stats.endpoints import playercareerstats\n",
    "import pandas as pd\n",
    "from nba_api.stats.static import players\n",
    "from nba_api.stats.static import teams\n",
    "from nba_api.stats.endpoints import leaguegamefinder\n",
    "from nba_api.stats.library.parameters import Season\n",
    "from nba_api.stats.library.parameters import SeasonType\n",
    "from nba_api.stats.library.parameters import SeasonTypePlayoffs\n",
    "\n",
    "import json\n"
   ]
  },
  {
   "cell_type": "code",
   "execution_count": 37,
   "id": "d78b50d2-71b1-486c-8ce5-0715ea79ed10",
   "metadata": {},
   "outputs": [],
   "source": [
    "def json_to_file(f_name, sometext):\n",
    "    json_object = json.dumps(sometext, indent=4)\n",
    "    with open(f'data/{f_name}.json', \"w\") as outfile:\n",
    "        outfile.write(json_object)\n"
   ]
  },
  {
   "cell_type": "code",
   "execution_count": null,
   "id": "123fe99b",
   "metadata": {},
   "outputs": [
    {
     "data": {
      "text/plain": [
       "<nba_api.stats.endpoints.playercareerstats.PlayerCareerStats at 0x1edb32a5700>"
      ]
     },
     "execution_count": 41,
     "metadata": {},
     "output_type": "execute_result"
    }
   ],
   "source": [
    "\n",
    "# Anthony Davis\n",
    "career = playercareerstats.PlayerCareerStats(player_id=\"203076\")\n",
    "# career.get_data_frames()[0]\n",
    "career.get_data_frames()[0]"
   ]
  },
  {
   "cell_type": "code",
   "execution_count": null,
   "id": "887b232f-57bd-48a8-b046-2f33ffdfa716",
   "metadata": {},
   "outputs": [],
   "source": [
    "nba_teams = teams.get_teams()\n",
    "\n",
    "json_to_file(\"nba_teams\",nba_teams)"
   ]
  },
  {
   "cell_type": "code",
   "execution_count": null,
   "id": "5514604e-5a56-4310-9d12-5471e3aa4a29",
   "metadata": {},
   "outputs": [],
   "source": [
    "team_abb_collection = []\n",
    "for i in teams.get_teams():\n",
    "    team_abb_collection.append(i['abbreviation'])\n",
    "\n",
    "# team_abb_collection"
   ]
  },
  {
   "cell_type": "code",
   "execution_count": null,
   "id": "a6dabc52-7641-4599-8596-98239b8f4703",
   "metadata": {},
   "outputs": [],
   "source": [
    "# export player to file\n",
    "all_player_list = players.get_players()\n",
    "json_to_file(\"all_player\",all_player_list)"
   ]
  },
  {
   "cell_type": "code",
   "execution_count": null,
   "id": "8d6a9042-99b7-4347-9fd2-e84e3373162a",
   "metadata": {},
   "outputs": [],
   "source": [
    "# Create Map for player and playerID\n",
    "\n",
    "player_id_map = {}\n",
    "for i in all_player_list:\n",
    "    player_id_map[i['id']] = i['full_name']\n",
    "    # break\n",
    "# player_id_map"
   ]
  },
  {
   "cell_type": "code",
   "execution_count": null,
   "id": "38bfd8a4-675d-4cad-b531-53dcb076684c",
   "metadata": {},
   "outputs": [],
   "source": [
    "player_list = []"
   ]
  },
  {
   "cell_type": "code",
   "execution_count": null,
   "id": "bdec7d8c-3035-4a6a-b3d0-07f7dfd51d22",
   "metadata": {},
   "outputs": [],
   "source": [
    "# Search for player with name\n",
    "player_name = \"Jalen\"\n",
    "player_result = []\n",
    "for i in all_player_list:\n",
    "    if i['first_name'] == player_name:\n",
    "        player_result.append(i)\n",
    "    elif i['last_name'] == player_name:\n",
    "        player_result.append(i)\n",
    "\n",
    "for i in player_result:\n",
    "    player_list.append(i['id'])\n",
    "\n"
   ]
  },
  {
   "cell_type": "code",
   "execution_count": null,
   "id": "7e1c2089-dacc-4a1a-b49f-b2dafdaa067b",
   "metadata": {},
   "outputs": [],
   "source": [
    "# Get player career stats\n",
    "\n",
    "# Check for duplication\n",
    "player_list = list(set(player_list))\n",
    "\n",
    "total_df = []\n",
    "for i in player_list:\n",
    "    player_career = playercareerstats.PlayerCareerStats(player_id =  str(i)) \n",
    "    career_df = player_career.get_data_frames()[0]\n",
    "    total_df.append(career_df)\n",
    "\n",
    "combineCareer = pd.concat(total_df)\n",
    "\n",
    "combineCareer"
   ]
  },
  {
   "cell_type": "code",
   "execution_count": null,
   "id": "1c95bf6c-2849-4a06-9d8b-f143f0968f86",
   "metadata": {},
   "outputs": [],
   "source": [
    "# Add player name to the stat and export it to a csv file\n",
    "combineCareer['PLAYER_NAME'] = combineCareer['PLAYER_ID'].map(player_id_map)\n",
    "\n",
    "combineCareer_col = combineCareer.columns.tolist()\n",
    "\n",
    "if 'PLAYER_NAME' not in combineCareer_col[:-1]:\n",
    "    combineCareer_col = combineCareer_col[-1:] + combineCareer_col[:-1]\n",
    "\n",
    "combineCareer=combineCareer[combineCareer_col]\n",
    "combineCareer.to_csv('data/palyer_Stat.csv', sep=',',  index=False)\n",
    "\n",
    "combineCareer\n"
   ]
  },
  {
   "cell_type": "code",
   "execution_count": null,
   "id": "3ef56c61-95e4-4117-bec0-7727b59a7a95",
   "metadata": {},
   "outputs": [],
   "source": [
    "# gamefinder = leaguegamefinder.LeagueGameFinder(\n",
    "#     team_id_nullable=team_select['id'],\n",
    "#     # team_id_nullable=\"1610612743\",\n",
    "#     season_nullable=\"20-21\",\n",
    "#                             # season=\"20-21\",\n",
    "                            # season_type_nullable=SeasonType.regular\n",
    "                            # season_type_nullable=SeasonTypePlayoffs.playoffs\n",
    "                                            #   )  \n",
    "\n",
    "# games_dict = gamefinder.get_normalized_dict()\n",
    "# print(SeasonTypePlayoffs.playoffs)\n",
    "# len(games_dict['LeagueGameFinderResults'])\n"
   ]
  },
  {
   "cell_type": "code",
   "execution_count": null,
   "id": "677298be-c859-4370-971d-622c235b4d3f",
   "metadata": {},
   "outputs": [],
   "source": [
    "match_up_team = \"BOS\"\n",
    "matchup_result = []\n",
    "for i in games_dict['LeagueGameFinderResults']:\n",
    "    if match_up_team in i['MATCHUP']:\n",
    "    # if match_up_team.MATCH.str.contsins('MIN:\n",
    "        matchup_result.append(i)\n",
    "\n",
    "json_to_file(\"match_result\",matchup_result)\n",
    "\n",
    "        "
   ]
  },
  {
   "cell_type": "code",
   "execution_count": null,
   "id": "ae23b9d2-ee8e-4a23-bb14-b28a8dd17cfe",
   "metadata": {},
   "outputs": [],
   "source": [
    "games = games_dict['LeagueGameFinderResults']\n",
    "game = games[0]\n",
    "game_id = game['GAME_ID']\n",
    "game_matchup = game['MATCHUP']\n",
    "\n",
    "# print(f'Searching through {len(games)} game(s) for the game_id of {game_id} where {game_matchup}')\n",
    "print(game)"
   ]
  },
  {
   "cell_type": "code",
   "execution_count": null,
   "id": "ee674572-25f0-49d9-8c25-541b053fe066",
   "metadata": {},
   "outputs": [],
   "source": [
    "# Get Playbyplay\n",
    "from nba_api.stats.endpoints import playbyplayv2\n",
    "pbp = playbyplayv2.PlayByPlayV2('0022301196')\n",
    "pbp = pbp.get_data_frames()[0]\n",
    "# pbp.head()"
   ]
  },
  {
   "cell_type": "code",
   "execution_count": null,
   "id": "beec6034-2390-4552-ac50-c7fcfea7cf3d",
   "metadata": {},
   "outputs": [],
   "source": [
    "# Get BoxScore\n",
    "from nba_api.live.nba.endpoints import boxscore\n",
    "box = boxscore.BoxScore('0022301196') \n",
    "\n",
    "# box.away_team_player_stats.get_dict()  \n",
    "\n",
    "# Data Sets\n",
    "# box.game.get_dict()                  #equal to box.get_dict()['game']\n",
    "#box.arena.get_dict()                  #equal to box.get_dict()['game']['arena']\n",
    "#box.away_team.get_dict()              #equal to box.get_dict()['game']['awayTeam']\n",
    "#box.away_team_player_stats.get_dict() #equal to box.get_dict()['game']['awayTeam']['players']\n",
    "#box.away_team_stats.get_dict()        #equal to box.get_dict()['game']['homeTeam'] w/o ['players']\n",
    "#box.home_team.get_dict()              #equal to box.get_dict()['game']['homeTeam']\n",
    "#box.home_team_player_stats.get_dict() #equal to box.get_dict()['game']['homeTeam']['players']\n",
    "#box.home_team_stats.get_dict()        #equal to box.get_dict()['game']['homeTeam'] w/o ['players']\n",
    "#box.game_details.get_dict()           #equal to box.get_dict()['game'] scrubbed of all other dictionaries\n",
    "#box.officials.get_dict()              #equal to box.get_dict()['game']['officials']"
   ]
  },
  {
   "cell_type": "code",
   "execution_count": null,
   "id": "e8536449-a2a0-4c5d-b9fb-09db2a694154",
   "metadata": {},
   "outputs": [],
   "source": [
    "# Select the dictionary for the Team (BOS, LAL, IND), which contains their team ID \n",
    "team_abb = 'DAL'\n",
    "team_select = [team for team in nba_teams if team['abbreviation'] == team_abb][0]\n",
    "team_select\n",
    "# f'team_id: {team_select[\"id\"]}'\n"
   ]
  },
  {
   "cell_type": "code",
   "execution_count": null,
   "id": "340bc455-7bba-42a3-a974-a3c010f5cac6",
   "metadata": {},
   "outputs": [],
   "source": [
    "from datetime import date\n",
    "\n",
    "gamefinder = leaguegamefinder.LeagueGameFinder(\n",
    "    # team_id_nullable=team_select['id'],\n",
    "                            season_nullable=Season.default,\n",
    "                            season_type_nullable=SeasonType.regular\n",
    "                            ,date_from_nullable='2025-03-24'\n",
    "                            # ,date_from_nullable=date.today()\n",
    "                            # ,date_to_nullable=date.today()\n",
    "                            # season_type_nullable=SeasonTypePlayoffs.playoffs\n",
    "                                              )  \n",
    "\n",
    "games_dict = gamefinder.get_normalized_dict()\n",
    "# print(SeasonTypePlayoffs.playoffs)\n",
    "games_dict\n"
   ]
  },
  {
   "cell_type": "code",
   "execution_count": null,
   "id": "426943ba",
   "metadata": {},
   "outputs": [],
   "source": [
    "games_dict"
   ]
  },
  {
   "cell_type": "code",
   "execution_count": null,
   "id": "0c456b5c-5771-45b7-9ead-2d4a8117eb64",
   "metadata": {},
   "outputs": [],
   "source": [
    "# gamefinder = leaguegamefinder.LeagueGameFinder(team_id_nullable=\"1610612742\")\n",
    "\n",
    "games = gamefinder.get_data_frames()[0]\n",
    "\n",
    "\n",
    "total_game = games.groupby(games.SEASON_ID.str[-4:])[['GAME_ID']].count().loc['2015':]\n",
    "total_game"
   ]
  },
  {
   "cell_type": "code",
   "execution_count": null,
   "id": "b0f799e5-d194-4d9e-bf67-bc2f4b7f3214",
   "metadata": {},
   "outputs": [],
   "source": []
  }
 ],
 "metadata": {
  "kernelspec": {
   "display_name": "Python 3",
   "language": "python",
   "name": "python3"
  },
  "language_info": {
   "codemirror_mode": {
    "name": "ipython",
    "version": 3
   },
   "file_extension": ".py",
   "mimetype": "text/x-python",
   "name": "python",
   "nbconvert_exporter": "python",
   "pygments_lexer": "ipython3",
   "version": "3.12.2"
  }
 },
 "nbformat": 4,
 "nbformat_minor": 5
}
